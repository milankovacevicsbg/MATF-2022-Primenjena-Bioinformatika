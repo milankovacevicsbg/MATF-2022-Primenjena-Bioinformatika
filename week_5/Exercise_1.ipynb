{
 "cells": [
  {
   "cell_type": "markdown",
   "metadata": {
    "tags": []
   },
   "source": [
    "# Exericse 1  \n",
    "In this exercise you will be implementing a simple aligner. You will use it to align the following read:\n",
    "'ACATACACATGTCCTGTTTTGATGTCCTATAATTAATTTTCTCTCCGTTTTTAACTTTTATCTATCTTATTAATGT'  \n",
    "to the refernece sequence located in the file example_reference.fasta (contig 20)\n",
    "\n",
    "**NOTE: example_human_reference.fasta and example_human_reference.fasta.fai can be found within the GitHub repository.** \n",
    "\n",
    "## Seed phase\n",
    "- Implement a simple hash-based aligner in Python\n",
    "    - A dict can be used to create the index\n",
    "    - Create an index for each kmer in a sequence\n",
    "    - Create this index for the example fasta file \n",
    "        (in the data directory, used in Week 5)  \n",
    "          \n",
    "          \n",
    "- To map a read, find locations for each kmer in the read\n",
    "    - Mind the offset from the beginning of the read\n",
    "    - Find the region with most kmers mapping to it\n",
    "    \n",
    "- collections.Counter() may be useful (pass a list to Counter(), and it will return the number of times each element occurs in the list)"
   ]
  },
  {
   "cell_type": "code",
   "execution_count": 3,
   "metadata": {
    "tags": []
   },
   "outputs": [
    {
     "name": "stdout",
     "output_type": "stream",
     "text": [
      "Collecting pysam\n",
      "  Downloading pysam-0.19.0-cp39-cp39-manylinux_2_12_x86_64.manylinux2010_x86_64.whl (15.7 MB)\n",
      "\u001b[K     |████████████████████████████████| 15.7 MB 34.1 MB/s eta 0:00:01\n",
      "\u001b[?25hInstalling collected packages: pysam\n",
      "Successfully installed pysam-0.19.0\n"
     ]
    }
   ],
   "source": [
    "!pip install pysam"
   ]
  },
  {
   "cell_type": "code",
   "execution_count": 4,
   "metadata": {},
   "outputs": [],
   "source": [
    "# Load libraries\n",
    "import pysam\n",
    "import sys\n",
    "from collections import Counter\n",
    "from itertools import chain"
   ]
  },
  {
   "cell_type": "markdown",
   "metadata": {},
   "source": [
    "Reading necessary data: reference sequence chr 20, read sequence, kmer size"
   ]
  },
  {
   "cell_type": "code",
   "execution_count": 5,
   "metadata": {},
   "outputs": [],
   "source": [
    "fasta = pysam.FastaFile(\"/sbgenomics/project-files/example_human_reference.fasta\").fetch('20')\n",
    "read = 'ACATACACATGTCCTGTTTTGATGTCCTATAATTAATTTTCTCTCCGTTTTTAACTTTTATCTATCTTATTAATGT'\n",
    "k = 10"
   ]
  },
  {
   "cell_type": "code",
   "execution_count": 6,
   "metadata": {
    "tags": []
   },
   "outputs": [],
   "source": [
    "#fasta"
   ]
  },
  {
   "cell_type": "markdown",
   "metadata": {},
   "source": [
    "**STEP 1: Create index for provided fasta file**"
   ]
  },
  {
   "cell_type": "code",
   "execution_count": 6,
   "metadata": {},
   "outputs": [
    {
     "name": "stdout",
     "output_type": "stream",
     "text": [
      "9992\n",
      "9760\n"
     ]
    }
   ],
   "source": [
    "#STEP 1.1 create all k-mers from the fasta\n",
    "\n",
    "kmers = []\n",
    "for i in range(len(fasta) - k + 1):\n",
    "    kmers.append(fasta[i:i+k])\n",
    "\n",
    "print(len(kmers))\n",
    "print(len(set(kmers)))"
   ]
  },
  {
   "cell_type": "code",
   "execution_count": 7,
   "metadata": {},
   "outputs": [],
   "source": [
    "# STEP 1.2 save the position for the k-mer\n",
    "\n",
    "kmers = {}\n",
    "for i in range(len(fasta) - k + 1):\n",
    "    kmer = fasta[i:i+k]\n",
    "    if kmer in kmers:\n",
    "        kmers[kmer].append(i)\n",
    "    else:\n",
    "        kmers[kmer] = [i]\n"
   ]
  },
  {
   "cell_type": "code",
   "execution_count": 19,
   "metadata": {},
   "outputs": [],
   "source": [
    "#kmers"
   ]
  },
  {
   "cell_type": "code",
   "execution_count": 8,
   "metadata": {},
   "outputs": [
    {
     "data": {
      "text/plain": [
       "9760"
      ]
     },
     "execution_count": 8,
     "metadata": {},
     "output_type": "execute_result"
    }
   ],
   "source": [
    "len(kmers)"
   ]
  },
  {
   "cell_type": "code",
   "execution_count": 9,
   "metadata": {},
   "outputs": [],
   "source": [
    "# Create reference index\n",
    "def create_index(fasta, k):\n",
    "    \n",
    "    kmers = {}\n",
    "    for i in range(len(fasta) - k + 1):\n",
    "        kmer = fasta[i:i+k]\n",
    "        if kmer not in kmers:\n",
    "            kmers[kmer] = [i]\n",
    "        else:\n",
    "            kmers[kmer].append(i)\n",
    "    return kmers"
   ]
  },
  {
   "cell_type": "code",
   "execution_count": 10,
   "metadata": {},
   "outputs": [
    {
     "data": {
      "text/plain": [
       "9760"
      ]
     },
     "execution_count": 10,
     "metadata": {},
     "output_type": "execute_result"
    }
   ],
   "source": [
    "len(create_index(fasta, k))"
   ]
  },
  {
   "cell_type": "markdown",
   "metadata": {},
   "source": [
    "**STEP 2: Get number of unique k-mers and number kmers with of colisions**"
   ]
  },
  {
   "cell_type": "code",
   "execution_count": 11,
   "metadata": {},
   "outputs": [
    {
     "name": "stdout",
     "output_type": "stream",
     "text": [
      "Number of unique k-mers: 9760\n",
      "Number of k-mers with collisions: 213\n"
     ]
    }
   ],
   "source": [
    "index = create_index(fasta, k)\n",
    "print(\"Number of unique k-mers:\", len(index))\n",
    "print(\"Number of k-mers with collisions:\", len({k:v for k,v in index.items() if len(v)>1}))"
   ]
  },
  {
   "cell_type": "markdown",
   "metadata": {},
   "source": [
    "**STEP 3: Create seed function which will return dict with reference positions as keys and with number of supporting kmers as values**"
   ]
  },
  {
   "cell_type": "code",
   "execution_count": 13,
   "metadata": {},
   "outputs": [],
   "source": [
    "# treba read da rastavimo na kmere i za svaki od kmera vidimo gde se sve pojavljuje u genomu \n",
    "def seed_read(index, k, read):\n",
    "    read_seeds = []\n",
    "    for i in range(len(read) - k + 1): # za svaku poziciju u readu\n",
    "        read_kmer = read[i:i+k]\n",
    "        positions = index[read_kmer]\n",
    "        for position in positions:\n",
    "            read_seeds.append(position - i)\n",
    "\n",
    "    return Counter(read_seeds)"
   ]
  },
  {
   "cell_type": "code",
   "execution_count": 14,
   "metadata": {},
   "outputs": [
    {
     "data": {
      "text/plain": [
       "Counter({5793: 67, 792: 2})"
      ]
     },
     "execution_count": 14,
     "metadata": {},
     "output_type": "execute_result"
    }
   ],
   "source": [
    "seed_read(index,k, read)"
   ]
  },
  {
   "cell_type": "code",
   "execution_count": 17,
   "metadata": {},
   "outputs": [],
   "source": [
    "# more pythonic way to write this code\n",
    "def seed_read1(index, k, read):\n",
    "    return Counter(chain.from_iterable([[y-i for y in index.get(read[i:i+k], [])] for i in range(len(read) - k + 1)]))"
   ]
  },
  {
   "cell_type": "code",
   "execution_count": 16,
   "metadata": {},
   "outputs": [
    {
     "data": {
      "text/plain": [
       "Counter({5793: 67, 792: 2})"
      ]
     },
     "execution_count": 16,
     "metadata": {},
     "output_type": "execute_result"
    }
   ],
   "source": [
    "seed_read1(index,k, read)"
   ]
  },
  {
   "cell_type": "markdown",
   "metadata": {},
   "source": [
    "**STEP 4: Possible improvements? Filter out all kmers that have more than n mapping positions**"
   ]
  },
  {
   "cell_type": "code",
   "execution_count": 18,
   "metadata": {},
   "outputs": [],
   "source": [
    "def seed_read2_with_improvements(index, k, read, n=1):\n",
    "    read_seeds = []\n",
    "    for i in range(len(read) - k + 1): # za svaku poziciju u readu\n",
    "        read_kmer = read[i:i+k]\n",
    "        positions = index[read_kmer]\n",
    "        if len(positions)<=n:\n",
    "            for position in positions:\n",
    "                read_seeds.append(position - i)\n",
    "\n",
    "    return Counter(read_seeds)"
   ]
  },
  {
   "cell_type": "code",
   "execution_count": 19,
   "metadata": {},
   "outputs": [
    {
     "data": {
      "text/plain": [
       "Counter({5793: 65})"
      ]
     },
     "execution_count": 19,
     "metadata": {},
     "output_type": "execute_result"
    }
   ],
   "source": [
    "seed_read2_with_improvements(index, k, read)"
   ]
  },
  {
   "cell_type": "code",
   "execution_count": null,
   "metadata": {},
   "outputs": [],
   "source": []
  }
 ],
 "metadata": {
  "kernelspec": {
   "display_name": "Python 3 (ipykernel)",
   "language": "python",
   "name": "python3"
  },
  "language_info": {
   "codemirror_mode": {
    "name": "ipython",
    "version": 3
   },
   "file_extension": ".py",
   "mimetype": "text/x-python",
   "name": "python",
   "nbconvert_exporter": "python",
   "pygments_lexer": "ipython3",
   "version": "3.9.6"
  }
 },
 "nbformat": 4,
 "nbformat_minor": 4
}
