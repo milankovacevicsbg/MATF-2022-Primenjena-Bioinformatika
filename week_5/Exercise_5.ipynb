{
 "cells": [
  {
   "cell_type": "markdown",
   "metadata": {},
   "source": [
    "# Exercise 5\n",
    "\n",
    "Create an AlignmentFile object for “merged-tumor.bam”\n",
    "\n",
    " - Take the first read from the AlignmentFile\n",
    " - Inspect the fields in the AlignedSegment\n",
    " - Inspect the flag field\n",
    " - Check out the flag for some reads using: https://broadinstitute.github.io/picard/explain-flags.html \n",
    " \n",
    " \n",
    "Calculate:\n",
    "\n",
    "\n",
    " - How many unmapped reads are in the file?\n",
    " - Total number of reads\n",
    " - Number of reads with mapping quality 0\n",
    " - Average mapping quality for all the reads\n",
    " - Average mapping quality if reads with 0 mapp quality are filtered out\n",
    "\n",
    "**NOTE: Fajlovi merged-tumor.bam i merged-tumor.bam.bai moraju biti ubaceni u projekat iz public fajlova.**"
   ]
  },
  {
   "cell_type": "code",
   "execution_count": 2,
   "metadata": {},
   "outputs": [
    {
     "name": "stdout",
     "output_type": "stream",
     "text": [
      "Requirement already satisfied: pysam in /opt/conda/lib/python3.8/site-packages (0.16.0.1)\n"
     ]
    }
   ],
   "source": [
    "!pip install pysam"
   ]
  },
  {
   "cell_type": "code",
   "execution_count": 3,
   "metadata": {},
   "outputs": [],
   "source": [
    "import pysam"
   ]
  },
  {
   "cell_type": "code",
   "execution_count": 4,
   "metadata": {},
   "outputs": [],
   "source": [
    "bam = pysam.AlignmentFile('/sbgenomics/project-files/merged-tumor.bam')"
   ]
  },
  {
   "cell_type": "code",
   "execution_count": 5,
   "metadata": {},
   "outputs": [
    {
     "name": "stdout",
     "output_type": "stream",
     "text": [
      "C0HVYACXX120402:7:1207:5722:57044\t1187\t20\t9483248\t27\t76M\t20\t9483381\t76\tTTTTCAAACAGTATCTATGCCTGCCAAATGTGAACATATAAAAAAAAACCAGAATGTGCCATTCTGATTTAAACTG\tarray('B', [28, 28, 27, 29, 31, 30, 31, 31, 29, 31, 35, 30, 29, 31, 34, 30, 29, 23, 41, 32, 20, 30, 29, 34, 34, 29, 30, 31, 30, 30, 30, 33, 33, 26, 39, 12, 25, 19, 32, 30, 35, 28, 35, 33, 23, 33, 35, 36, 30, 38, 33, 41, 34, 35, 31, 33, 23, 30, 30, 36, 27, 32, 29, 34, 35, 41, 33, 31, 33, 29, 32, 32, 31, 31, 31, 34])\t[('XA', 'GL000217.1,-110754,76M,1;'), ('BD', 'NNNNNNNNNNNNNNNNNNNNNNNNNNNNNNNNNNNNNNNNNNNNNNNNNNNNNNNNNNNNNNNNNNNNNNNNNNNN'), ('MD', '76'), ('RG', '1'), ('BI', 'NNNNNNNNNNNNNNNNNNNNNNNNNNNNNNNNNNNNNNNNNNNNNNNNNNNNNNNNNNNNNNNNNNNNNNNNNNNN'), ('NM', 0), ('MQ', 27), ('AS', 76), ('XS', 71)]\n"
     ]
    }
   ],
   "source": [
    "for x in bam:\n",
    "    print(x)\n",
    "    break"
   ]
  },
  {
   "cell_type": "code",
   "execution_count": 6,
   "metadata": {},
   "outputs": [
    {
     "name": "stdout",
     "output_type": "stream",
     "text": [
      "Number of unmapped reads:  17765\n"
     ]
    }
   ],
   "source": [
    "unmapped_count = 0\n",
    "\n",
    "for x in bam.fetch():\n",
    "    if x.is_unmapped:\n",
    "        unmapped_count +=1\n",
    "        \n",
    "print(\"Number of unmapped reads: \", unmapped_count)"
   ]
  },
  {
   "cell_type": "code",
   "execution_count": 7,
   "metadata": {},
   "outputs": [
    {
     "name": "stdout",
     "output_type": "stream",
     "text": [
      "Total number of reads: 2921629\n",
      "Number of reads with mapping quality 0: 126628\n",
      "Average mapping quality for all the reads: 55.91379158681681\n",
      "Average mapping quality if reads with 0 mapp quality are filtered out: 58.446975510921106\n"
     ]
    }
   ],
   "source": [
    "print(\"Total number of reads:\", len([x.mapping_quality for x in bam.fetch()]))\n",
    "\n",
    "print(\"Number of reads with mapping quality 0:\", len([x.mapping_quality for x in bam.fetch() if x.mapping_quality == 0]))\n",
    "\n",
    "print(\"Average mapping quality for all the reads:\", sum([x.mapping_quality for x in bam.fetch()])/len([x.mapping_quality for x in bam.fetch()]))\n",
    "\n",
    "print(\"Average mapping quality if reads with 0 mapp quality are filtered out:\", sum([x.mapping_quality for x in bam.fetch() if x.mapping_quality > 0])/len([x.mapping_quality for x in bam.fetch() if x.mapping_quality > 0]))"
   ]
  }
 ],
 "metadata": {
  "kernelspec": {
   "display_name": "Python 3 (ipykernel)",
   "language": "python",
   "name": "python3"
  },
  "language_info": {
   "codemirror_mode": {
    "name": "ipython",
    "version": 3
   },
   "file_extension": ".py",
   "mimetype": "text/x-python",
   "name": "python",
   "nbconvert_exporter": "python",
   "pygments_lexer": "ipython3",
   "version": "3.9.6"
  }
 },
 "nbformat": 4,
 "nbformat_minor": 4
}
